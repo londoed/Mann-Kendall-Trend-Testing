{
 "cells": [
  {
   "cell_type": "markdown",
   "metadata": {},
   "source": [
    "# Mann-Kendall Trend Test Example (MW -103s)"
   ]
  },
  {
   "cell_type": "code",
   "execution_count": 83,
   "metadata": {},
   "outputs": [],
   "source": [
    "import numpy as np\n",
    "from scipy.stats import norm, mstats\n",
    "from scipy.integrate import quad\n",
    "import statistics as stats"
   ]
  },
  {
   "cell_type": "code",
   "execution_count": 84,
   "metadata": {},
   "outputs": [],
   "source": [
    "def mann_kendall(x, alpha=0.05):\n",
    "    n = len(x)\n",
    "    coeff_var = stats.stdev(x) / stats.mean(x)\n",
    "    \n",
    "    # Calculate S #\n",
    "    S = 0\n",
    "    for k in range(n - 1):\n",
    "        for j in range(k + 1, n):\n",
    "            S += np.sign(x[j] - x[k])\n",
    "            \n",
    "    # Calculate the unique data #\n",
    "    unique_x = np.unique(x)\n",
    "    g = len(unique_x)\n",
    "    \n",
    "    # Calculate the variance of S #\n",
    "    if n == g:\n",
    "        var_S = (n * (n - 1) * (2 * n + 5)) / 18\n",
    "    else:\n",
    "        tp = np.zeros(unique_x.shape)\n",
    "        for i in range(g):\n",
    "            tp[i] = sum(unique_x[i] == x)\n",
    "        var_S = (n * (n - 1) * (2 * n + 5) + np.sum(tp * (tp -1) * (2 * tp + 5))) / 18\n",
    "        \n",
    "    # Calculate Z statistic #\n",
    "    if S > 0:\n",
    "        Z = (S - 1) / np.sqrt(var_S)\n",
    "    elif S == 0:\n",
    "        Z = 0\n",
    "    else:\n",
    "        Z = (S + 1) / np.sqrt(var_S)\n",
    "        \n",
    "    # Calculate the p-value #\n",
    "    p = 2 * (1 - norm.cdf(abs(Z)))\n",
    "    h = abs(Z) > norm.ppf(1 - alpha / 2)\n",
    "    \n",
    "    if (Z < 0) and h:\n",
    "        trend = 'DECREASING'\n",
    "    elif (Z > 0) and h:\n",
    "        trend = 'INCREASING'\n",
    "    else:\n",
    "        trend = 'NO TREND'\n",
    "        \n",
    "    return trend, h, p, Z, S, coeff_var"
   ]
  },
  {
   "cell_type": "code",
   "execution_count": 85,
   "metadata": {},
   "outputs": [],
   "source": [
    "# Calculate the Confidence Factor #\n",
    "def normal_probability_density(x):\n",
    "    constant = 1.0 / np.sqrt(2 * np.pi)\n",
    "    return (constant * np.exp((-x**2) / 2.0))"
   ]
  },
  {
   "cell_type": "code",
   "execution_count": 86,
   "metadata": {},
   "outputs": [],
   "source": [
    "data = [78, 76, 74, 73, 78, 70, 75, 66, 52, 64, 69, 73, 69, 71, 72, 72, 69, 58, 62, 51, 51, 53, 58, 65, 75, 72, 71, 72, 63, 64, 68, 71, 60, 65, 77, 76, 85, 83, 88, 89]"
   ]
  },
  {
   "cell_type": "code",
   "execution_count": 87,
   "metadata": {},
   "outputs": [],
   "source": [
    "test_trend, h, p, Z, S, CV = mann_kendall(data, alpha=0.05)\n",
    "last_eight, h_8, p_8, Z_8, S_8, CV_8 = mann_kendall(data[-8:], alpha=0.05)\n",
    "test_cf, _ = quad(normal_probability_density, np.NINF, Z)\n",
    "last_eight_cf, _ = quad(normal_probability_density, np.NINF, Z_8)"
   ]
  },
  {
   "cell_type": "code",
   "execution_count": 88,
   "metadata": {
    "scrolled": true
   },
   "outputs": [
    {
     "name": "stdout",
     "output_type": "stream",
     "text": [
      "COMPLETE TEST : Trend: NO TREND, S: 34, Coefficient of Variation: 0.13, Confidence Factor: 64.9%\n",
      "LAST EIGHT : Trend: INCREASING, S: 24, Coefficient of Variation: 0.14, Confidence Factor: 99.8%\n"
     ]
    }
   ],
   "source": [
    "print(\"COMPLETE TEST : Trend: {}, S: {}, Coefficient of Variation: {:.2f}, Confidence Factor: {:.1%}\".format(test_trend, S, CV, test_cf))\n",
    "print(\"LAST EIGHT : Trend: {}, S: {}, Coefficient of Variation: {:.2f}, Confidence Factor: {:.1%}\".format(last_eight, S_8, CV_8, last_eight_cf))"
   ]
  },
  {
   "cell_type": "code",
   "execution_count": null,
   "metadata": {},
   "outputs": [],
   "source": []
  }
 ],
 "metadata": {
  "kernelspec": {
   "display_name": "Python 3",
   "language": "python",
   "name": "python3"
  },
  "language_info": {
   "codemirror_mode": {
    "name": "ipython",
    "version": 3
   },
   "file_extension": ".py",
   "mimetype": "text/x-python",
   "name": "python",
   "nbconvert_exporter": "python",
   "pygments_lexer": "ipython3",
   "version": "3.6.6"
  }
 },
 "nbformat": 4,
 "nbformat_minor": 2
}
